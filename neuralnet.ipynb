{
 "cells": [
  {
   "cell_type": "code",
   "execution_count": 45,
   "metadata": {},
   "outputs": [],
   "source": [
    "import numpy as np \n",
    "import pandas as pd\n",
    "import matplotlib.pyplot as plt\n",
    "import seaborn as sns"
   ]
  },
  {
   "cell_type": "code",
   "execution_count": 46,
   "metadata": {},
   "outputs": [],
   "source": [
    "data=pd.read_csv('dataset2.csv')"
   ]
  },
  {
   "cell_type": "code",
   "execution_count": 48,
   "metadata": {},
   "outputs": [],
   "source": [
    "#check for missing values\n",
    "#get rid of missing values\n",
    "data=data.dropna(axis=0)"
   ]
  },
  {
   "cell_type": "code",
   "execution_count": 50,
   "metadata": {},
   "outputs": [
    {
     "name": "stdout",
     "output_type": "stream",
     "text": [
      "                   activityID  heart_rate  hand temperature (°C)  \\\n",
      "0        transient activities       104.0                30.0000   \n",
      "1        transient activities       104.0                30.0000   \n",
      "2        transient activities       104.0                30.0000   \n",
      "3        transient activities       104.0                30.0000   \n",
      "4        transient activities       104.0                30.0000   \n",
      "...                       ...         ...                    ...   \n",
      "2864051  transient activities       140.0                30.8125   \n",
      "2864052  transient activities       140.0                30.8125   \n",
      "2864053  transient activities       140.0                30.8125   \n",
      "2864054  transient activities       140.0                30.8125   \n",
      "2864055  transient activities       140.0                30.8125   \n",
      "\n",
      "         hand acceleration X ±16g  hand acceleration Y ±16g  \\\n",
      "0                         2.37223                   8.60074   \n",
      "1                         2.18837                   8.56560   \n",
      "2                         2.37357                   8.60107   \n",
      "3                         2.07473                   8.52853   \n",
      "4                         2.22936                   8.83122   \n",
      "...                           ...                       ...   \n",
      "2864051                  -9.54108                  -2.02884   \n",
      "2864052                  -9.42932                  -2.06799   \n",
      "2864053                  -9.42745                  -1.99177   \n",
      "2864054                  -9.47246                  -2.06904   \n",
      "2864055                  -9.66621                  -2.18240   \n",
      "\n",
      "         hand acceleration Z ±16g  hand gyroscope X  hand gyroscope Y  \\\n",
      "0                        3.510480         -0.092217          0.056812   \n",
      "1                        3.661790         -0.024413          0.047759   \n",
      "2                        3.548980         -0.057976          0.032574   \n",
      "3                        3.660210         -0.002352          0.032810   \n",
      "4                        3.700000          0.012269          0.018305   \n",
      "...                           ...               ...               ...   \n",
      "2864051                  0.904692         -0.027300          0.049635   \n",
      "2864052                  0.868011         -0.000662          0.047391   \n",
      "2864053                  0.906269          0.001045          0.050029   \n",
      "2864054                  0.713419          0.002208          0.033216   \n",
      "2864055                  0.595437         -0.010053         -0.005231   \n",
      "\n",
      "         hand gyroscope Z  hand magnetometer X  ...  \\\n",
      "0               -0.015845              14.6806  ...   \n",
      "1                0.006474              14.8991  ...   \n",
      "2               -0.006988              14.2420  ...   \n",
      "3               -0.003747              14.8908  ...   \n",
      "4               -0.053325              15.5612  ...   \n",
      "...                   ...                  ...  ...   \n",
      "2864051         -0.014393              43.7216  ...   \n",
      "2864052         -0.051719              43.7171  ...   \n",
      "2864053         -0.018188              44.3418  ...   \n",
      "2864054         -0.022058              43.4774  ...   \n",
      "2864055         -0.043513              43.9548  ...   \n",
      "\n",
      "         ankle acceleration X ±16g  ankle acceleration Y ±16g  \\\n",
      "0                          9.65918                  -1.655690   \n",
      "1                          9.69370                  -1.579020   \n",
      "2                          9.58944                  -1.732760   \n",
      "3                          9.58814                  -1.770400   \n",
      "4                          9.69771                  -1.656250   \n",
      "...                            ...                        ...   \n",
      "2864051                    9.18391                  -0.102771   \n",
      "2864052                    9.18112                  -0.216034   \n",
      "2864053                    9.18611                  -0.103413   \n",
      "2864054                    9.18151                  -0.140097   \n",
      "2864055                    9.14409                  -0.139860   \n",
      "\n",
      "         ankle acceleration Z ±16g  ankle gyroscope X  ankle gyroscope Y  \\\n",
      "0                        -0.099797           0.008300           0.009250   \n",
      "1                        -0.215687          -0.006577          -0.004638   \n",
      "2                         0.092914           0.003014           0.000148   \n",
      "3                         0.054545           0.003175          -0.020301   \n",
      "4                        -0.060809           0.012698          -0.014303   \n",
      "...                            ...                ...                ...   \n",
      "2864051                  -3.934680           0.006770           0.036675   \n",
      "2864052                  -4.011180           0.001383           0.001895   \n",
      "2864053                  -3.857470           0.014374          -0.015898   \n",
      "2864054                  -4.011650           0.041315          -0.027977   \n",
      "2864055                  -4.012030           0.014079           0.004095   \n",
      "\n",
      "         ankle gyroscope Z  ankle magnetometer X  ankle magnetometer Y  \\\n",
      "0                -0.017580              -61.1888              -38.9599   \n",
      "1                 0.000368              -59.8479              -38.8919   \n",
      "2                 0.022495              -60.7361              -39.4138   \n",
      "3                 0.011275              -60.4091              -38.7635   \n",
      "4                -0.002823              -61.5199              -39.3879   \n",
      "...                    ...                   ...                   ...   \n",
      "2864051           0.030725              -38.4279              -16.0602   \n",
      "2864052           0.028021              -39.0518              -16.2840   \n",
      "2864053           0.005044              -38.5541              -16.0535   \n",
      "2864054           0.027846              -38.8064              -16.0400   \n",
      "2864055          -0.023915              -38.6814              -15.9175   \n",
      "\n",
      "         ankle magnetometer Z  PeopleId  \n",
      "0                    -58.1438         1  \n",
      "1                    -58.5253         1  \n",
      "2                    -58.3999         1  \n",
      "3                    -58.3956         1  \n",
      "4                    -58.2694         1  \n",
      "...                       ...       ...  \n",
      "2864051               24.5522         8  \n",
      "2864052               25.4013         8  \n",
      "2864053               24.6936         8  \n",
      "2864054               24.9763         8  \n",
      "2864055               24.9766         8  \n",
      "\n",
      "[2864010 rows x 33 columns]\n"
     ]
    }
   ],
   "source": []
  },
  {
   "cell_type": "code",
   "execution_count": 24,
   "metadata": {},
   "outputs": [],
   "source": [
    "#get rid of peopleID\n",
    "data=data.drop(['PeopleId'],axis=1)\n"
   ]
  },
  {
   "cell_type": "code",
   "execution_count": 40,
   "metadata": {},
   "outputs": [],
   "source": [
    "#encode activityID\n",
    "from sklearn.preprocessing import LabelEncoder\n",
    "le=LabelEncoder()\n",
    "data['activityID']=le.fit_transform(data['activityID'])"
   ]
  },
  {
   "cell_type": "code",
   "execution_count": 41,
   "metadata": {},
   "outputs": [],
   "source": [
    "y=data[\"activityID\"]\n",
    "X=data.drop([\"activityID\"],axis=1)\n",
    "#split the data into training, validation and testing sets\n",
    "from sklearn.model_selection import train_test_split\n",
    "X_train,X_test,y_train,y_test=train_test_split(X,y,test_size=0.2,stratify=y,random_state=42)\n"
   ]
  },
  {
   "cell_type": "code",
   "execution_count": 42,
   "metadata": {},
   "outputs": [],
   "source": [
    "import tensorflow as tf\n",
    "from tensorflow.keras import layers, models"
   ]
  },
  {
   "cell_type": "code",
   "execution_count": 57,
   "metadata": {},
   "outputs": [
    {
     "name": "stdout",
     "output_type": "stream",
     "text": [
      "Model: \"sequential_10\"\n",
      "_________________________________________________________________\n",
      " Layer (type)                Output Shape              Param #   \n",
      "=================================================================\n",
      " dense_31 (Dense)            (None, 128)               4096      \n",
      "                                                                 \n",
      " dropout_3 (Dropout)         (None, 128)               0         \n",
      "                                                                 \n",
      " dense_32 (Dense)            (None, 64)                8256      \n",
      "                                                                 \n",
      " dropout_4 (Dropout)         (None, 64)                0         \n",
      "                                                                 \n",
      " dense_33 (Dense)            (None, 32)                2080      \n",
      "                                                                 \n",
      " dropout_5 (Dropout)         (None, 32)                0         \n",
      "                                                                 \n",
      " dense_34 (Dense)            (None, 13)                429       \n",
      "                                                                 \n",
      "=================================================================\n",
      "Total params: 14,861\n",
      "Trainable params: 14,861\n",
      "Non-trainable params: 0\n",
      "_________________________________________________________________\n"
     ]
    }
   ],
   "source": [
    "# Define the neural network model\n",
    "model = models.Sequential()\n",
    "model.add(layers.Dense(128, activation='relu', input_shape=(31,)))\n",
    "model.add(layers.Dropout(0.5))  # Adding dropout for regularization\n",
    "model.add(layers.Dense(64, activation='relu'))\n",
    "model.add(layers.Dropout(0.5))\n",
    "model.add(layers.Dense(32, activation='relu'))\n",
    "model.add(layers.Dropout(0.5))\n",
    "model.add(layers.Dense(13, activation='softmax'))  # 13 classes, softmax for multi-class classification\n",
    "\n",
    "# Compile the model\n",
    "model.compile(optimizer='adam', loss='sparse_categorical_crossentropy', metrics=['accuracy'])\n",
    "\n",
    "model.summary()"
   ]
  },
  {
   "cell_type": "code",
   "execution_count": 58,
   "metadata": {},
   "outputs": [
    {
     "name": "stdout",
     "output_type": "stream",
     "text": [
      "Epoch 1/10\n",
      "57281/57281 [==============================] - 48s 837us/step - loss: 1.2819 - accuracy: 0.5990 - val_loss: 0.8136 - val_accuracy: 0.7545\n",
      "Epoch 2/10\n",
      "57281/57281 [==============================] - 49s 849us/step - loss: 1.0712 - accuracy: 0.6736 - val_loss: 0.7696 - val_accuracy: 0.7673\n",
      "Epoch 3/10\n",
      "57281/57281 [==============================] - 48s 836us/step - loss: 1.0454 - accuracy: 0.6848 - val_loss: 0.7462 - val_accuracy: 0.7736\n",
      "Epoch 4/10\n",
      "57281/57281 [==============================] - 48s 837us/step - loss: 1.0347 - accuracy: 0.6907 - val_loss: 0.7391 - val_accuracy: 0.7754\n",
      "Epoch 5/10\n",
      "57281/57281 [==============================] - 48s 842us/step - loss: 1.0234 - accuracy: 0.6965 - val_loss: 0.7321 - val_accuracy: 0.7838\n",
      "Epoch 6/10\n",
      "57281/57281 [==============================] - 48s 837us/step - loss: 1.0201 - accuracy: 0.6984 - val_loss: 0.7023 - val_accuracy: 0.7918\n",
      "Epoch 7/10\n",
      "57281/57281 [==============================] - 48s 845us/step - loss: 1.0149 - accuracy: 0.7018 - val_loss: 0.7268 - val_accuracy: 0.7868\n",
      "Epoch 8/10\n",
      "57281/57281 [==============================] - 50s 866us/step - loss: 1.0094 - accuracy: 0.7040 - val_loss: 0.7253 - val_accuracy: 0.7865\n",
      "Epoch 9/10\n",
      "57281/57281 [==============================] - 50s 880us/step - loss: 1.0074 - accuracy: 0.7046 - val_loss: 0.6981 - val_accuracy: 0.7904\n",
      "Epoch 10/10\n",
      "57281/57281 [==============================] - 49s 863us/step - loss: 1.0058 - accuracy: 0.7059 - val_loss: 0.6829 - val_accuracy: 0.7973\n"
     ]
    },
    {
     "data": {
      "text/plain": [
       "<keras.callbacks.History at 0x2f9d9a250>"
      ]
     },
     "execution_count": 58,
     "metadata": {},
     "output_type": "execute_result"
    }
   ],
   "source": [
    "model.fit(X_train, y_train, epochs=10, batch_size=32, validation_split=0.2)"
   ]
  },
  {
   "cell_type": "code",
   "execution_count": null,
   "metadata": {},
   "outputs": [],
   "source": []
  }
 ],
 "metadata": {
  "kernelspec": {
   "display_name": "Python 3",
   "language": "python",
   "name": "python3"
  },
  "language_info": {
   "codemirror_mode": {
    "name": "ipython",
    "version": 3
   },
   "file_extension": ".py",
   "mimetype": "text/x-python",
   "name": "python",
   "nbconvert_exporter": "python",
   "pygments_lexer": "ipython3",
   "version": "3.11.5"
  },
  "orig_nbformat": 4
 },
 "nbformat": 4,
 "nbformat_minor": 2
}
